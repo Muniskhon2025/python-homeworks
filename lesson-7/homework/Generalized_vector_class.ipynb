{
 "cells": [
  {
   "cell_type": "code",
   "execution_count": 1,
   "metadata": {},
   "outputs": [
    {
     "ename": "SyntaxError",
     "evalue": "unmatched ')' (61890258.py, line 43)",
     "output_type": "error",
     "traceback": [
      "\u001b[1;36m  Cell \u001b[1;32mIn[1], line 43\u001b[1;36m\u001b[0m\n\u001b[1;33m    return isinstance(other, Vector) and self.components == other.components)\u001b[0m\n\u001b[1;37m                                                                            ^\u001b[0m\n\u001b[1;31mSyntaxError\u001b[0m\u001b[1;31m:\u001b[0m unmatched ')'\n"
     ]
    }
   ],
   "source": [
    "import math\n",
    "\n",
    "class Vector:\n",
    "    def __init__(self, *components):\n",
    "        self.components = tuple(components)\n",
    "    \n",
    "    def __repr__(self):\n",
    "        return f\"Vector{self.components}\"\n",
    "    \n",
    "    def __add__(self, other):\n",
    "        if not isinstance(other, Vector) or len(self.components) != len(other.components):\n",
    "            raise ValueError(\"Vectors must have the same dimensions for addition.\")\n",
    "        return Vector(*(a + b for a, b in zip(self.components, other.components)))\n",
    "    \n",
    "    def __sub__(self, other):\n",
    "        if not isinstance(other, Vector) or len(self.components) != len(other.components):\n",
    "            raise ValueError(\"Vectors must have the same dimensions for subtraction.\")\n",
    "        return Vector(*(a - b for a, b in zip(self.components, other.components)))\n",
    "    \n",
    "    def __mul__(self, scalar):\n",
    "        if not isinstance(scalar, (int, float)):\n",
    "            raise TypeError(\"Scalar multiplication requires a numeric value.\")\n",
    "        return Vector(*(a * scalar for a in self.components))\n",
    "    \n",
    "    def __rmul__(self, scalar):\n",
    "        return self * scalar\n",
    "    \n",
    "    def dot(self, other):\n",
    "        if not isinstance(other, Vector) or len(self.components) != len(other.components):\n",
    "            raise ValueError(\"Vectors must have the same dimensions for dot product.\")\n",
    "        return sum(a * b for a, b in zip(self.components, other.components))\n",
    "    \n",
    "    def magnitude(self):\n",
    "        return math.sqrt(sum(a ** 2 for a in self.components))\n",
    "    \n",
    "    def normalize(self):\n",
    "        mag = self.magnitude()\n",
    "        if mag == 0:\n",
    "            raise ValueError(\"Cannot normalize a zero vector.\")\n",
    "        return Vector(*(a / mag for a in self.components))\n",
    "    \n",
    "    def __eq__(self, other):\n",
    "        return isinstance(other, Vector) and self.components == other.components)\n",
    "\n",
    "# Example usage:\n",
    "v1 = Vector(1, 2, 3)\n",
    "v2 = Vector(4, 5, 6)\n",
    "print(v1 + v2)  # Vector(5, 7, 9)\n",
    "print(v1 - v2)  # Vector(-3, -3, -3)\n",
    "print(v1 * 2)   # Vector(2, 4, 6)\n",
    "print(v1.dot(v2))  # 32\n",
    "print(v1.magnitude())  # 3.7416573867739413\n",
    "print(v1.normalize())  # Vector(0.267, 0.534, 0.801)\n"
   ]
  }
 ],
 "metadata": {
  "kernelspec": {
   "display_name": "Python 3",
   "language": "python",
   "name": "python3"
  },
  "language_info": {
   "codemirror_mode": {
    "name": "ipython",
    "version": 3
   },
   "file_extension": ".py",
   "mimetype": "text/x-python",
   "name": "python",
   "nbconvert_exporter": "python",
   "pygments_lexer": "ipython3",
   "version": "3.10.10"
  }
 },
 "nbformat": 4,
 "nbformat_minor": 2
}
