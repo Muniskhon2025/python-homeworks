{
 "cells": [
  {
   "cell_type": "code",
   "execution_count": 4,
   "metadata": {},
   "outputs": [
    {
     "name": "stdout",
     "output_type": "stream",
     "text": [
      "Point1: (3, 4)\n",
      "Point2: (16, 8)\n",
      "Distance between Point1 and Point2: 13.601470508735444\n",
      "Is Point1 inside the circle? True\n",
      "Is Point2 inside the circle? False\n"
     ]
    }
   ],
   "source": [
    "import math\n",
    "point1 = (3, 4)\n",
    "point2 = (16, 8)\n",
    "\n",
    "circle_center = (5, 5)\n",
    "circle_radius = 5\n",
    "\n",
    "def distance(p1, p2):\n",
    "    \"\"\"Calculate the Euclidean distance between two points\"\"\"\n",
    "    return math.sqrt((p1[0]-p2[0])**2 + (p1[1]-p2[1])**2)\n",
    "\n",
    "def is_inside_circle(center, radius, point):\n",
    "    \"\"\"Check if a point lies within a circle\"\"\"\n",
    "    return distance(center, point) <= radius\n",
    "\n",
    "print(\"Point1:\", point1)\n",
    "print(\"Point2:\", point2)\n",
    "print(\"Distance between Point1 and Point2:\", distance(point1, point2))\n",
    "print(\"Is Point1 inside the circle?\", is_inside_circle(circle_center, circle_radius, point1))\n",
    "print(\"Is Point2 inside the circle?\", is_inside_circle(circle_center, circle_radius, point2))"
   ]
  },
  {
   "cell_type": "code",
   "execution_count": 6,
   "metadata": {},
   "outputs": [],
   "source": [
    "class Point:\n",
    "    pass\n",
    "\n",
    "a = Point()\n",
    "a.x = 5\n",
    "a.y = 6\n",
    "\n",
    "b = Point()\n",
    "b.x = 2\n",
    "b.y = 7"
   ]
  },
  {
   "cell_type": "code",
   "execution_count": 8,
   "metadata": {},
   "outputs": [],
   "source": [
    "def distance(p1: Point, p2: Point):\n",
    "    \"\"\"Calculate the Euclidean distance between two points.\"\"\"\n",
    "    return math.sqrt((p1.x-p2.x)**2+(p1.y-p2.y)**2)\n",
    "\n",
    "    distance(a, b)\n",
    "    "
   ]
  },
  {
   "cell_type": "code",
   "execution_count": 9,
   "metadata": {},
   "outputs": [
    {
     "data": {
      "text/plain": [
       "3.1622776601683795"
      ]
     },
     "execution_count": 9,
     "metadata": {},
     "output_type": "execute_result"
    }
   ],
   "source": [
    "distance(a, b)"
   ]
  },
  {
   "cell_type": "code",
   "execution_count": 11,
   "metadata": {},
   "outputs": [
    {
     "name": "stdout",
     "output_type": "stream",
     "text": [
      "executed\n"
     ]
    }
   ],
   "source": [
    "class Point:\n",
    "    def __init__(self):\n",
    "        print('executed')\n",
    "\n",
    "a = Point()"
   ]
  },
  {
   "cell_type": "code",
   "execution_count": null,
   "metadata": {},
   "outputs": [],
   "source": []
  }
 ],
 "metadata": {
  "kernelspec": {
   "display_name": "Python 3",
   "language": "python",
   "name": "python3"
  },
  "language_info": {
   "codemirror_mode": {
    "name": "ipython",
    "version": 3
   },
   "file_extension": ".py",
   "mimetype": "text/x-python",
   "name": "python",
   "nbconvert_exporter": "python",
   "pygments_lexer": "ipython3",
   "version": "3.10.10"
  }
 },
 "nbformat": 4,
 "nbformat_minor": 2
}
