{
 "cells": [
  {
   "cell_type": "code",
   "execution_count": null,
   "metadata": {},
   "outputs": [],
   "source": [
    "point1 = (3, 4)\n",
    "point2 = (16, 8)\n",
    "\n",
    "circle_center = (5, 5)\n",
    "circle_radius = 5\n",
    "\n",
    "def distance(p1, p2)\n",
    "    \"\"\"Calculate the Euclidean distance between two points\"\"\"\n",
    "    return math.sqrt((p1[0]-p2[0])**2 + (p1[1]-p2[1])**2)\n",
    "\n",
    "def is_inside_circle(center, radius, point)\n",
    "    \"\"\"Check if a point lies within a circle\"\"\"\n",
    "    return distance(center, point) <= radius\n",
    "\n",
    "print(\"Point1:\", point1)\n",
    "print(\"Point2:\", point2)\n",
    "print(\"Distance between Point1 and Point2:\", distance(point1, point2))\n",
    "print(\"Is Point1 inside the circle?\", is_inside_circle(circle_center, circle_radius, ) )"
   ]
  }
 ],
 "metadata": {
  "language_info": {
   "name": "python"
  }
 },
 "nbformat": 4,
 "nbformat_minor": 2
}
