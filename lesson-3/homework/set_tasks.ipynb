{
 "cells": [
  {
   "cell_type": "code",
   "execution_count": 1,
   "metadata": {},
   "outputs": [
    {
     "data": {
      "text/plain": [
       "{'a', 'd', 'f', 'g', 'j', 's'}"
      ]
     },
     "execution_count": 1,
     "metadata": {},
     "output_type": "execute_result"
    }
   ],
   "source": [
    "#1st question\n",
    "s1 = {'a', 's', 'g', 'f'}\n",
    "s2 = {'j', 'a', 'g', 'd'}\n",
    "s1.union(s2)"
   ]
  },
  {
   "cell_type": "code",
   "execution_count": 2,
   "metadata": {},
   "outputs": [
    {
     "data": {
      "text/plain": [
       "{'a', 'g'}"
      ]
     },
     "execution_count": 2,
     "metadata": {},
     "output_type": "execute_result"
    }
   ],
   "source": [
    "#2nd question\n",
    "s1 = {'a', 's', 'g', 'f'}\n",
    "s2 = {'j', 'a', 'g', 'd'}\n",
    "s1 & s2"
   ]
  },
  {
   "cell_type": "code",
   "execution_count": 3,
   "metadata": {},
   "outputs": [
    {
     "data": {
      "text/plain": [
       "{'f', 's'}"
      ]
     },
     "execution_count": 3,
     "metadata": {},
     "output_type": "execute_result"
    }
   ],
   "source": [
    "#3rd question\n",
    "s1 = {'a', 's', 'g', 'f'}\n",
    "s2 = {'j', 'a', 'g', 'd'}\n",
    "s1 - s2"
   ]
  },
  {
   "cell_type": "code",
   "execution_count": null,
   "metadata": {},
   "outputs": [],
   "source": [
    "#4th question"
   ]
  },
  {
   "cell_type": "code",
   "execution_count": 5,
   "metadata": {},
   "outputs": [
    {
     "data": {
      "text/plain": [
       "False"
      ]
     },
     "execution_count": 5,
     "metadata": {},
     "output_type": "execute_result"
    }
   ],
   "source": [
    "#5th question\n",
    "'cherry' in ['apple', 'banana', 'melon', 'lemon']"
   ]
  },
  {
   "cell_type": "code",
   "execution_count": 33,
   "metadata": {},
   "outputs": [
    {
     "name": "stdout",
     "output_type": "stream",
     "text": [
      "6\n"
     ]
    }
   ],
   "source": [
    "#6th question\n",
    "s = {2, 4, 5, 6, 4, 3, 2, 6, 7}\n",
    "unique_count = len(s)\n",
    "print(unique_count)\n"
   ]
  },
  {
   "cell_type": "code",
   "execution_count": 8,
   "metadata": {},
   "outputs": [
    {
     "data": {
      "text/plain": [
       "{2, 3, 4, 5, 6, 7}"
      ]
     },
     "execution_count": 8,
     "metadata": {},
     "output_type": "execute_result"
    }
   ],
   "source": [
    "#7th question\n",
    "numbers = [2, 4, 5, 6, 4, 3, 2, 6, 7]\n",
    "set"
   ]
  },
  {
   "cell_type": "code",
   "execution_count": 9,
   "metadata": {},
   "outputs": [
    {
     "name": "stdout",
     "output_type": "stream",
     "text": [
      "{1, 2, 4}\n",
      "{1, 2, 4}\n"
     ]
    }
   ],
   "source": [
    "#8th question\n",
    "s = {1, 2, 3, 4}\n",
    "s.discard(3)  \n",
    "print(s)  \n",
    "\n",
    "s.discard(5)  \n",
    "print(s)  \n"
   ]
  },
  {
   "cell_type": "code",
   "execution_count": 11,
   "metadata": {},
   "outputs": [
    {
     "data": {
      "text/plain": [
       "set()"
      ]
     },
     "execution_count": 11,
     "metadata": {},
     "output_type": "execute_result"
    }
   ],
   "source": [
    "#9th question\n",
    "s = {1, 2, 3, 4}\n",
    "s.clear()\n",
    "s"
   ]
  },
  {
   "cell_type": "code",
   "execution_count": 12,
   "metadata": {},
   "outputs": [
    {
     "name": "stdout",
     "output_type": "stream",
     "text": [
      "The set is not empty\n"
     ]
    }
   ],
   "source": [
    "#10th question\n",
    "s = {1, 2, 3}\n",
    "\n",
    "if s: \n",
    "    print(\"The set is not empty\")\n",
    "else:\n",
    "    print(\"The set is empty\")\n"
   ]
  },
  {
   "cell_type": "code",
   "execution_count": 4,
   "metadata": {},
   "outputs": [
    {
     "data": {
      "text/plain": [
       "{'d', 'f', 'j', 's'}"
      ]
     },
     "execution_count": 4,
     "metadata": {},
     "output_type": "execute_result"
    }
   ],
   "source": [
    "#11th question\n",
    "s1 = {'a', 's', 'g', 'f'}\n",
    "s2 = {'j', 'a', 'g', 'd'}\n",
    "s1.symmetric_difference(s2)"
   ]
  },
  {
   "cell_type": "code",
   "execution_count": 16,
   "metadata": {},
   "outputs": [
    {
     "data": {
      "text/plain": [
       "{'a', 'f', 'g', 's', 'v'}"
      ]
     },
     "execution_count": 16,
     "metadata": {},
     "output_type": "execute_result"
    }
   ],
   "source": [
    "#12th question\n",
    "s = {'a', 's', 'g', 'f'}\n",
    "s.add('v')\n",
    "s"
   ]
  },
  {
   "cell_type": "code",
   "execution_count": 20,
   "metadata": {},
   "outputs": [
    {
     "data": {
      "text/plain": [
       "{2, 3, 4}"
      ]
     },
     "execution_count": 20,
     "metadata": {},
     "output_type": "execute_result"
    }
   ],
   "source": [
    "#13th question\n",
    "s = {1, 2, 3, 4}\n",
    "s.pop()\n",
    "s\n",
    "\n",
    "\n"
   ]
  },
  {
   "cell_type": "code",
   "execution_count": 21,
   "metadata": {},
   "outputs": [
    {
     "name": "stdout",
     "output_type": "stream",
     "text": [
      "42\n"
     ]
    }
   ],
   "source": [
    "#14th question\n",
    "s = {10, 25, 8, 42, 17}\n",
    "max_element = max(s)\n",
    "\n",
    "\n",
    "print(max_element) \n"
   ]
  },
  {
   "cell_type": "code",
   "execution_count": 22,
   "metadata": {},
   "outputs": [
    {
     "name": "stdout",
     "output_type": "stream",
     "text": [
      "Minimum element: 8\n"
     ]
    }
   ],
   "source": [
    "#15th question\n",
    "s = {10, 25, 8, 42, 17}\n",
    "min_element = min(s)\n",
    "\n",
    "print(\"Minimum element:\", min_element)  \n"
   ]
  },
  {
   "cell_type": "code",
   "execution_count": 23,
   "metadata": {},
   "outputs": [
    {
     "name": "stdout",
     "output_type": "stream",
     "text": [
      "Even numbers: {2, 4, 6, 8, 10}\n"
     ]
    }
   ],
   "source": [
    "#16th question\n",
    "s = {1, 2, 3, 4, 5, 6, 7, 8, 9, 10}\n",
    "\n",
    "even_numbers = {x for x in s if x % 2 == 0}\n",
    "\n",
    "print(\"Even numbers:\", even_numbers)  \n"
   ]
  },
  {
   "cell_type": "code",
   "execution_count": 25,
   "metadata": {},
   "outputs": [
    {
     "name": "stdout",
     "output_type": "stream",
     "text": [
      "Odd numbers: {1, 3, 5, 7, 9}\n"
     ]
    }
   ],
   "source": [
    "#17th question\n",
    "s = {1, 2, 3, 4, 5, 6, 7, 8, 9, 10}\n",
    "\n",
    "odd_numbers = {x for x in s if x % 2 != 0}\n",
    "\n",
    "print(\"Odd numbers:\", odd_numbers)  \n"
   ]
  },
  {
   "cell_type": "code",
   "execution_count": 1,
   "metadata": {},
   "outputs": [
    {
     "name": "stdout",
     "output_type": "stream",
     "text": [
      "{1, 2, 3, 4, 5, 6, 7, 8, 9, 10}\n"
     ]
    }
   ],
   "source": [
    "#18th question\n",
    "s = set(range(1, 11))\n",
    "print(s)  \n",
    "\n"
   ]
  },
  {
   "cell_type": "code",
   "execution_count": 2,
   "metadata": {},
   "outputs": [
    {
     "name": "stdout",
     "output_type": "stream",
     "text": [
      "{1, 2, 3, 4, 5, 6, 7, 8}\n"
     ]
    }
   ],
   "source": [
    "#19th question\n",
    "list1 = [1, 2, 3, 4, 5]\n",
    "list2 = [4, 5, 6, 7, 8]\n",
    "\n",
    "merged_set = set(list1) | set(list2)  \n",
    "\n",
    "print(merged_set)  \n",
    "\n"
   ]
  },
  {
   "cell_type": "code",
   "execution_count": 3,
   "metadata": {},
   "outputs": [
    {
     "name": "stdout",
     "output_type": "stream",
     "text": [
      "The sets have no elements in common.\n"
     ]
    }
   ],
   "source": [
    "#20th question\n",
    "st1 = {1, 2, 3, 4}\n",
    "st2 = {5, 6, 7, 8}\n",
    "\n",
    "if st1.symmetric_difference(st2):\n",
    "    print(\"The sets have no elements in common.\")  \n",
    "else:\n",
    "    print(\"The sets have common elements.\")\n"
   ]
  },
  {
   "cell_type": "code",
   "execution_count": 4,
   "metadata": {},
   "outputs": [
    {
     "name": "stdout",
     "output_type": "stream",
     "text": [
      "[1, 2, 3, 4, 5, 6, 7]\n"
     ]
    }
   ],
   "source": [
    "#21th question\n",
    "lst = [1, 2, 2, 3, 4, 4, 5, 6, 6, 7]\n",
    "unique_lst = list(set(lst))\n",
    "\n",
    "print(unique_lst)  \n",
    "\n"
   ]
  },
  {
   "cell_type": "code",
   "execution_count": 5,
   "metadata": {},
   "outputs": [
    {
     "name": "stdout",
     "output_type": "stream",
     "text": [
      "Count of unique elements: 7\n"
     ]
    }
   ],
   "source": [
    "#22th question\n",
    "lst = [1, 2, 2, 3, 4, 4, 5, 6, 6, 7]\n",
    "\n",
    "unique_count = len(set(lst))\n",
    "\n",
    "print(\"Count of unique elements:\", unique_count)  \n",
    "\n"
   ]
  },
  {
   "cell_type": "code",
   "execution_count": 6,
   "metadata": {},
   "outputs": [
    {
     "name": "stdout",
     "output_type": "stream",
     "text": [
      "{12, 13, 15, 17, 20}\n"
     ]
    }
   ],
   "source": [
    "#23th question\n",
    "import random\n",
    "\n",
    "num_elements = 5 \n",
    "range_start = 1   \n",
    "range_end = 20    \n",
    "\n",
    "random_set = set(random.sample(range(range_start, range_end + 1), num_elements))\n",
    "\n",
    "print(random_set)  \n",
    "\n"
   ]
  },
  {
   "cell_type": "code",
   "execution_count": null,
   "metadata": {},
   "outputs": [],
   "source": []
  }
 ],
 "metadata": {
  "kernelspec": {
   "display_name": "Python 3",
   "language": "python",
   "name": "python3"
  },
  "language_info": {
   "codemirror_mode": {
    "name": "ipython",
    "version": 3
   },
   "file_extension": ".py",
   "mimetype": "text/x-python",
   "name": "python",
   "nbconvert_exporter": "python",
   "pygments_lexer": "ipython3",
   "version": "3.10.10"
  }
 },
 "nbformat": 4,
 "nbformat_minor": 2
}
