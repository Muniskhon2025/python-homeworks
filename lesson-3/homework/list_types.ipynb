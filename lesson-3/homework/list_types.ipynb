{
 "cells": [
  {
   "cell_type": "code",
   "execution_count": null,
   "metadata": {},
   "outputs": [
    {
     "data": {
      "text/plain": [
       "2"
      ]
     },
     "execution_count": 1,
     "metadata": {},
     "output_type": "execute_result"
    }
   ],
   "source": [
    "#1st question\n",
    "school_supplies = ['pen', 'pencil', 'copybook', 'bag', 'pen']\n",
    "school_supplies.count('pen')"
   ]
  },
  {
   "cell_type": "code",
   "execution_count": 1,
   "metadata": {},
   "outputs": [
    {
     "name": "stdout",
     "output_type": "stream",
     "text": [
      "28\n"
     ]
    }
   ],
   "source": [
    "#2nd Question\n",
    "numbers = [1, 2, 3, 4, 5, 6, 7]\n",
    "print(sum(numbers))"
   ]
  },
  {
   "cell_type": "code",
   "execution_count": 2,
   "metadata": {},
   "outputs": [
    {
     "name": "stdout",
     "output_type": "stream",
     "text": [
      "67\n"
     ]
    }
   ],
   "source": [
    "#3rd question\n",
    "numbers = [24, 67, 34, 56, 23]\n",
    "print(max(numbers))"
   ]
  },
  {
   "cell_type": "code",
   "execution_count": 5,
   "metadata": {},
   "outputs": [
    {
     "name": "stdout",
     "output_type": "stream",
     "text": [
      "23\n"
     ]
    }
   ],
   "source": [
    "#4th question\n",
    "numbers = [24, 67, 34, 56, 23]\n",
    "print(min(numbers))\n"
   ]
  },
  {
   "cell_type": "code",
   "execution_count": 1,
   "metadata": {},
   "outputs": [
    {
     "name": "stdout",
     "output_type": "stream",
     "text": [
      "True\n",
      "False\n"
     ]
    }
   ],
   "source": [
    "#5th question\n",
    "\n",
    "def check_element(lst, elem):\n",
    "    return elem in lst\n",
    "\n",
    "lst = [1, 2, 3, 4, 5]\n",
    "print(check_element(lst, 3)) \n",
    "print(check_element(lst, 10))  \n",
    "\n"
   ]
  },
  {
   "cell_type": "code",
   "execution_count": 2,
   "metadata": {},
   "outputs": [
    {
     "name": "stdout",
     "output_type": "stream",
     "text": [
      "10\n",
      "None\n"
     ]
    }
   ],
   "source": [
    "#6th question\n",
    "def first_element(lst):\n",
    "    return lst[0] if lst else None\n",
    "\n",
    "lst1 = [10, 20, 30]\n",
    "lst2 = []\n",
    "\n",
    "print(first_element(lst1))  \n",
    "print(first_element(lst2))  \n",
    "\n"
   ]
  },
  {
   "cell_type": "code",
   "execution_count": 3,
   "metadata": {},
   "outputs": [
    {
     "name": "stdout",
     "output_type": "stream",
     "text": [
      "30\n",
      "None\n"
     ]
    }
   ],
   "source": [
    "#7th question\n",
    "def last_element(lst):\n",
    "    return lst[-1] if lst else None\n",
    "\n",
    "lst1 = [10, 20, 30]\n",
    "lst2 = []\n",
    "\n",
    "print(last_element(lst1))  \n",
    "print(last_element(lst2)) \n",
    "\n"
   ]
  },
  {
   "cell_type": "code",
   "execution_count": 10,
   "metadata": {},
   "outputs": [
    {
     "name": "stdout",
     "output_type": "stream",
     "text": [
      "[2, 4, 6]\n"
     ]
    }
   ],
   "source": [
    "#8th question\n",
    "numbers = [2, 4, 6, 7, 9, 3, 5]\n",
    "print(numbers[0:3])"
   ]
  },
  {
   "cell_type": "code",
   "execution_count": 18,
   "metadata": {},
   "outputs": [
    {
     "data": {
      "text/plain": [
       "['watermelon', 'peach', 'banana', 'apple']"
      ]
     },
     "execution_count": 18,
     "metadata": {},
     "output_type": "execute_result"
    }
   ],
   "source": [
    "#9th question\n",
    "fruits = ['apple', 'banana', 'peach', 'watermelon']\n",
    "fruits.reverse()\n",
    "fruits"
   ]
  },
  {
   "cell_type": "code",
   "execution_count": 20,
   "metadata": {},
   "outputs": [
    {
     "data": {
      "text/plain": [
       "['apple', 'banana', 'peach', 'watermelon']"
      ]
     },
     "execution_count": 20,
     "metadata": {},
     "output_type": "execute_result"
    }
   ],
   "source": [
    "#10th question\n",
    "fruits = ['apple', 'watermelon', 'banana', 'peach', ]\n",
    "fruits.sort()\n",
    "fruits"
   ]
  },
  {
   "cell_type": "code",
   "execution_count": 37,
   "metadata": {},
   "outputs": [
    {
     "data": {
      "text/plain": [
       "['apple', 'banana', 'watermelon', 'peach']"
      ]
     },
     "execution_count": 37,
     "metadata": {},
     "output_type": "execute_result"
    }
   ],
   "source": [
    "#11th question\n",
    "fruits = ['apple', 'watermelon', 'banana', 'peach', 'apple']\n",
    "list(set(fruits))"
   ]
  },
  {
   "cell_type": "code",
   "execution_count": 29,
   "metadata": {},
   "outputs": [
    {
     "data": {
      "text/plain": [
       "['apple', 'watermelon', 'banana', 'peach', 'cherry', 'apple']"
      ]
     },
     "execution_count": 29,
     "metadata": {},
     "output_type": "execute_result"
    }
   ],
   "source": [
    "#12th question\n",
    "fruits = ['apple', 'watermelon', 'banana', 'peach', 'apple']\n",
    "fruits.insert(4, 'cherry')\n",
    "fruits"
   ]
  },
  {
   "cell_type": "code",
   "execution_count": 36,
   "metadata": {},
   "outputs": [
    {
     "name": "stdout",
     "output_type": "stream",
     "text": [
      "1\n"
     ]
    }
   ],
   "source": [
    "#13th question\n",
    "fruits = ['apple', 'watermelon', 'banana', 'peach', 'watermelon' 'apple']\n",
    "print(fruits.index('watermelon', 0))\n"
   ]
  },
  {
   "cell_type": "code",
   "execution_count": 4,
   "metadata": {},
   "outputs": [
    {
     "name": "stdout",
     "output_type": "stream",
     "text": [
      "True\n",
      "False\n"
     ]
    }
   ],
   "source": [
    "#14th question\n",
    "def is_empty(lst):\n",
    "    return len(lst) == 0  \n",
    "\n",
    "lst1 = []\n",
    "lst2 = [1, 2, 3]\n",
    "\n",
    "print(is_empty(lst1)) \n",
    "print(is_empty(lst2))  \n",
    "\n"
   ]
  },
  {
   "cell_type": "code",
   "execution_count": 5,
   "metadata": {},
   "outputs": [
    {
     "name": "stdout",
     "output_type": "stream",
     "text": [
      "3\n"
     ]
    }
   ],
   "source": [
    "#15th question\n",
    "def count_even(lst):\n",
    "    return sum(1 for x in lst if x % 2 == 0)\n",
    "\n",
    "nums = [1, 2, 3, 4, 5, 6]\n",
    "print(count_even(nums))  \n"
   ]
  },
  {
   "cell_type": "code",
   "execution_count": 6,
   "metadata": {},
   "outputs": [
    {
     "name": "stdout",
     "output_type": "stream",
     "text": [
      "3\n"
     ]
    }
   ],
   "source": [
    "#16th question\n",
    "def count_odd(lst):\n",
    "    return sum(1 for x in lst if x % 2 != 0)\n",
    "\n",
    "nums = [1, 2, 3, 4, 5, 6]\n",
    "print(count_odd(nums))  \n"
   ]
  },
  {
   "cell_type": "code",
   "execution_count": 7,
   "metadata": {},
   "outputs": [
    {
     "name": "stdout",
     "output_type": "stream",
     "text": [
      "[1, 2, 3, 4, 5, 6]\n"
     ]
    }
   ],
   "source": [
    "#17th question\n",
    "def concatenate_lists(lst1, lst2):\n",
    "    return lst1 + lst2\n",
    "\n",
    "a = [1, 2, 3]\n",
    "b = [4, 5, 6]\n",
    "print(concatenate_lists(a, b))  \n"
   ]
  },
  {
   "cell_type": "code",
   "execution_count": 8,
   "metadata": {},
   "outputs": [
    {
     "name": "stdout",
     "output_type": "stream",
     "text": [
      "True\n"
     ]
    }
   ],
   "source": [
    "#18th question\n",
    "def contains_sublist(lst, sublist):\n",
    "    return any(lst[i:i+len(sublist)] == sublist for i in range(len(lst) - len(sublist) + 1))\n",
    "\n",
    "lst = [1, 2, 3, 4, 5]\n",
    "sub = [2, 3, 4]\n",
    "print(contains_sublist(lst, sub))  \n"
   ]
  },
  {
   "cell_type": "code",
   "execution_count": 9,
   "metadata": {},
   "outputs": [
    {
     "name": "stdout",
     "output_type": "stream",
     "text": [
      "[1, 99, 3, 2, 4]\n"
     ]
    }
   ],
   "source": [
    "#19th question \n",
    "def replace_element(lst, old, new):\n",
    "    if old in lst:\n",
    "        index = lst.index(old)\n",
    "        lst[index] = new\n",
    "    return lst\n",
    "\n",
    "lst = [1, 2, 3, 2, 4]\n",
    "print(replace_element(lst, 2, 99)) \n"
   ]
  },
  {
   "cell_type": "code",
   "execution_count": 10,
   "metadata": {},
   "outputs": [
    {
     "name": "stdout",
     "output_type": "stream",
     "text": [
      "7\n"
     ]
    }
   ],
   "source": [
    "#20th question\n",
    "def second_largest(lst):\n",
    "    unique_nums = sorted(set(lst), reverse=True)\n",
    "    return unique_nums[1] if len(unique_nums) > 1 else None\n",
    "\n",
    "nums = [1, 5, 3, 9, 7, 9]\n",
    "print(second_largest(nums))  \n"
   ]
  },
  {
   "cell_type": "code",
   "execution_count": 11,
   "metadata": {},
   "outputs": [
    {
     "name": "stdout",
     "output_type": "stream",
     "text": [
      "3\n"
     ]
    }
   ],
   "source": [
    "#21th question\n",
    "def second_smallest(lst):\n",
    "    unique_nums = sorted(set(lst))\n",
    "    return unique_nums[1] if len(unique_nums) > 1 else None\n",
    "\n",
    "nums = [1, 5, 3, 9, 7, 1]\n",
    "print(second_smallest(nums)) \n"
   ]
  },
  {
   "cell_type": "code",
   "execution_count": 12,
   "metadata": {},
   "outputs": [
    {
     "name": "stdout",
     "output_type": "stream",
     "text": [
      "[2, 4, 6]\n"
     ]
    }
   ],
   "source": [
    "#22th question\n",
    "def filter_even(lst):\n",
    "    return [x for x in lst if x % 2 == 0]\n",
    "\n",
    "nums = [1, 2, 3, 4, 5, 6]\n",
    "print(filter_even(nums))  \n"
   ]
  },
  {
   "cell_type": "code",
   "execution_count": 13,
   "metadata": {},
   "outputs": [
    {
     "name": "stdout",
     "output_type": "stream",
     "text": [
      "[1, 3, 5]\n"
     ]
    }
   ],
   "source": [
    "#23th question\n",
    "def filter_odd(lst):\n",
    "    return [x for x in lst if x % 2 != 0]\n",
    "\n",
    "nums = [1, 2, 3, 4, 5, 6]\n",
    "print(filter_odd(nums))  \n"
   ]
  },
  {
   "cell_type": "code",
   "execution_count": 17,
   "metadata": {},
   "outputs": [
    {
     "data": {
      "text/plain": [
       "4"
      ]
     },
     "execution_count": 17,
     "metadata": {},
     "output_type": "execute_result"
    }
   ],
   "source": [
    "#24th question\n",
    "\n",
    "\n",
    "nums = [1, 2, 3, 4]\n",
    "len(nums)  \n"
   ]
  },
  {
   "cell_type": "code",
   "execution_count": 15,
   "metadata": {},
   "outputs": [
    {
     "data": {
      "text/plain": [
       "[1, 2, 3]"
      ]
     },
     "execution_count": 15,
     "metadata": {},
     "output_type": "execute_result"
    }
   ],
   "source": [
    "#25th question\n",
    "\n",
    "\n",
    "nums = [1, 2, 3]\n",
    "nums.copy()\n"
   ]
  },
  {
   "cell_type": "code",
   "execution_count": 18,
   "metadata": {},
   "outputs": [
    {
     "name": "stdout",
     "output_type": "stream",
     "text": [
      "3\n",
      "[2, 3]\n"
     ]
    }
   ],
   "source": [
    "#26th question\n",
    "def middle_element(lst):\n",
    "    n = len(lst)\n",
    "    if n == 0:\n",
    "        return None\n",
    "    mid = n // 2\n",
    "    return (lst[mid] if n % 2 == 1 else [lst[mid - 1], lst[mid]])\n",
    "\n",
    "nums1 = [1, 2, 3, 4, 5]\n",
    "nums2 = [1, 2, 3, 4]\n",
    "print(middle_element(nums1))  \n",
    "print(middle_element(nums2))  \n"
   ]
  },
  {
   "cell_type": "code",
   "execution_count": null,
   "metadata": {},
   "outputs": [
    {
     "name": "stdout",
     "output_type": "stream",
     "text": [
      "40\n"
     ]
    }
   ],
   "source": [
    "#27th question\n",
    "def max_of_sublist(lst, start, end):\n",
    "    if 0 <= start < len(lst) and 0 < end <= len(lst) and start < end:\n",
    "        return max(lst[start:end])\n",
    "    return None \n",
    "\n",
    "nums = [10, 20, 5, 40, 30, 25]\n",
    "print(max_of_sublist(nums, 1, 5)) \n"
   ]
  },
  {
   "cell_type": "code",
   "execution_count": null,
   "metadata": {},
   "outputs": [
    {
     "name": "stdout",
     "output_type": "stream",
     "text": [
      "5\n"
     ]
    }
   ],
   "source": [
    "#28th question\n",
    "def min_of_sublist(lst, start, end):\n",
    "    if 0 <= start < len(lst) and 0 < end <= len(lst) and start < end:\n",
    "        return min(lst[start:end])\n",
    "    return None  \n",
    "nums = [10, 20, 5, 40, 30, 25]\n",
    "print(min_of_sublist(nums, 1, 5)) \n"
   ]
  },
  {
   "cell_type": "code",
   "execution_count": 26,
   "metadata": {},
   "outputs": [
    {
     "name": "stdout",
     "output_type": "stream",
     "text": [
      "[10, 20, 40]\n"
     ]
    }
   ],
   "source": [
    "#29th question\n",
    "\n",
    "\n",
    "def remove_by_index(lst, index):\n",
    "    if 0 <= index < len(lst):\n",
    "        del lst[index]\n",
    "    return lst\n",
    "\n",
    "nums = [10, 20, 30, 40]\n",
    "print(remove_by_index(nums, 2))  \n",
    "\n"
   ]
  },
  {
   "cell_type": "code",
   "execution_count": 27,
   "metadata": {},
   "outputs": [
    {
     "name": "stdout",
     "output_type": "stream",
     "text": [
      "True\n",
      "False\n"
     ]
    }
   ],
   "source": [
    "#30th question\n",
    "def is_sorted(lst):\n",
    "    return lst == sorted(lst)\n",
    "\n",
    "nums1 = [1, 2, 3, 4]\n",
    "nums2 = [3, 1, 4, 2]\n",
    "print(is_sorted(nums1))  \n",
    "print(is_sorted(nums2))  \n"
   ]
  },
  {
   "cell_type": "code",
   "execution_count": 28,
   "metadata": {},
   "outputs": [
    {
     "name": "stdout",
     "output_type": "stream",
     "text": [
      "[1, 1, 1, 2, 2, 2, 3, 3, 3]\n"
     ]
    }
   ],
   "source": [
    "#31st question\n",
    "def repeat_elements(lst, times):\n",
    "    if times <= 0:\n",
    "        return []  \n",
    "    return [item for item in lst for _ in range(times)]\n",
    "\n",
    "nums = [1, 2, 3]\n",
    "times = 3\n",
    "print(repeat_elements(nums, times))  \n",
    "\n"
   ]
  },
  {
   "cell_type": "code",
   "execution_count": 29,
   "metadata": {},
   "outputs": [
    {
     "name": "stdout",
     "output_type": "stream",
     "text": [
      "[1, 2, 3, 4, 5, 6]\n"
     ]
    }
   ],
   "source": [
    "#32nd question\n",
    "def merge_and_sort(lst1, lst2):\n",
    "    return sorted(lst1 + lst2)\n",
    "\n",
    "a = [3, 1, 4]\n",
    "b = [6, 5, 2]\n",
    "print(merge_and_sort(a, b)) \n"
   ]
  },
  {
   "cell_type": "code",
   "execution_count": 30,
   "metadata": {},
   "outputs": [
    {
     "name": "stdout",
     "output_type": "stream",
     "text": [
      "[1, 3, 5]\n"
     ]
    }
   ],
   "source": [
    "#33rd question\n",
    "def find_all_indices(lst, elem):\n",
    "    return [i for i, x in enumerate(lst) if x == elem]\n",
    "\n",
    "nums = [1, 2, 3, 2, 4, 2]\n",
    "print(find_all_indices(nums, 2))  \n"
   ]
  },
  {
   "cell_type": "code",
   "execution_count": 31,
   "metadata": {},
   "outputs": [
    {
     "name": "stdout",
     "output_type": "stream",
     "text": [
      "[4, 5, 1, 2, 3]\n"
     ]
    }
   ],
   "source": [
    "#34th question\n",
    "def rotate_list(lst, k):\n",
    "    k %= len(lst)\n",
    "    return lst[-k:] + lst[:-k]\n",
    "\n",
    "nums = [1, 2, 3, 4, 5]\n",
    "print(rotate_list(nums, 2))  \n"
   ]
  },
  {
   "cell_type": "code",
   "execution_count": 33,
   "metadata": {},
   "outputs": [
    {
     "name": "stdout",
     "output_type": "stream",
     "text": [
      "[1, 2, 3, 4, 5, 6, 7, 8, 9, 10]\n"
     ]
    }
   ],
   "source": [
    "#35th question\n",
    "def create_range_list(start, end):\n",
    "    return list(range(start, end + 1))\n",
    "\n",
    "print(create_range_list(1, 10))  \n",
    "\n"
   ]
  },
  {
   "cell_type": "code",
   "execution_count": 34,
   "metadata": {},
   "outputs": [
    {
     "name": "stdout",
     "output_type": "stream",
     "text": [
      "19\n"
     ]
    }
   ],
   "source": [
    "#36th question\n",
    "def sum_of_positive_numbers(lst):\n",
    "    return sum(num for num in lst if num > 0)\n",
    "\n",
    "nums = [-5, 10, -3, 7, 2, -1]\n",
    "print(sum_of_positive_numbers(nums))  \n",
    "\n"
   ]
  },
  {
   "cell_type": "code",
   "execution_count": 35,
   "metadata": {},
   "outputs": [
    {
     "name": "stdout",
     "output_type": "stream",
     "text": [
      "-9\n"
     ]
    }
   ],
   "source": [
    "#37th question\n",
    "def sum_of_negative_numbers(lst):\n",
    "    return sum(num for num in lst if num < 0)\n",
    "\n",
    "nums = [-5, 10, -3, 7, 2, -1]\n",
    "print(sum_of_negative_numbers(nums))  \n",
    "# Output: -9 (-5 + -3 + -1)\n"
   ]
  },
  {
   "cell_type": "code",
   "execution_count": null,
   "metadata": {},
   "outputs": [
    {
     "name": "stdout",
     "output_type": "stream",
     "text": [
      "True\n",
      "False\n"
     ]
    }
   ],
   "source": [
    "#38th question\n",
    "def is_palindrome(lst):\n",
    "    return lst == lst[::-1]\n",
    "\n",
    "nums1 = [1, 2, 3, 2, 1]\n",
    "nums2 = [1, 2, 3, 4]\n",
    "print(is_palindrome(nums1))  \n",
    "print(is_palindrome(nums2))  \n"
   ]
  },
  {
   "cell_type": "code",
   "execution_count": null,
   "metadata": {},
   "outputs": [
    {
     "name": "stdout",
     "output_type": "stream",
     "text": [
      "[[1, 2, 3], [4, 5, 6], [7, 8]]\n"
     ]
    }
   ],
   "source": [
    "#39th question\n",
    "def create_nested_list(lst, size):\n",
    "    return [lst[i:i+size] for i in range(0, len(lst), size)]\n",
    "\n",
    "nums = [1, 2, 3, 4, 5, 6, 7, 8]\n",
    "size = 3\n",
    "print(create_nested_list(nums, size))  \n",
    "\n",
    "\n"
   ]
  },
  {
   "cell_type": "code",
   "execution_count": 37,
   "metadata": {},
   "outputs": [
    {
     "name": "stdout",
     "output_type": "stream",
     "text": [
      "[1, 2, 3, 4, 5]\n"
     ]
    }
   ],
   "source": [
    "#40th question\n",
    "def get_unique_elements(lst):\n",
    "    seen = set()\n",
    "    return [x for x in lst if not (x in seen or seen.add(x))]\n",
    "\n",
    "nums = [1, 2, 2, 3, 4, 3, 5, 1]\n",
    "print(get_unique_elements(nums))  \n",
    "\n"
   ]
  },
  {
   "cell_type": "code",
   "execution_count": null,
   "metadata": {},
   "outputs": [],
   "source": []
  }
 ],
 "metadata": {
  "kernelspec": {
   "display_name": "Python 3",
   "language": "python",
   "name": "python3"
  },
  "language_info": {
   "codemirror_mode": {
    "name": "ipython",
    "version": 3
   },
   "file_extension": ".py",
   "mimetype": "text/x-python",
   "name": "python",
   "nbconvert_exporter": "python",
   "pygments_lexer": "ipython3",
   "version": "3.10.10"
  }
 },
 "nbformat": 4,
 "nbformat_minor": 2
}
