{
 "cells": [
  {
   "cell_type": "code",
   "execution_count": 3,
   "metadata": {},
   "outputs": [
    {
     "name": "stdout",
     "output_type": "stream",
     "text": [
      "3\n"
     ]
    }
   ],
   "source": [
    "#1st question\n",
    "def count_element(t, elem):\n",
    "    return t.count(elem)\n",
    "\n",
    "t = (1, 2, 3, 4, 2, 2, 5)\n",
    "print(count_element(t, 2))  \n"
   ]
  },
  {
   "cell_type": "code",
   "execution_count": null,
   "metadata": {},
   "outputs": [
    {
     "name": "stdout",
     "output_type": "stream",
     "text": [
      "9\n"
     ]
    }
   ],
   "source": [
    "#2nd question\n",
    "\n",
    "def max_element(t):\n",
    "    return max(t)\n",
    "t = (1, 9, 3, 7, 5)\n",
    "\n",
    "print(max_element(t))  \n"
   ]
  },
  {
   "cell_type": "code",
   "execution_count": 6,
   "metadata": {},
   "outputs": [
    {
     "name": "stdout",
     "output_type": "stream",
     "text": [
      "1\n"
     ]
    }
   ],
   "source": [
    "#3rd question\n",
    "def min_element(t):\n",
    "    return min(t)\n",
    "\n",
    "t = (1, 9, 3, 7, 5)\n",
    "print(min_element(t))  \n"
   ]
  },
  {
   "cell_type": "code",
   "execution_count": 7,
   "metadata": {},
   "outputs": [
    {
     "name": "stdout",
     "output_type": "stream",
     "text": [
      "True\n"
     ]
    }
   ],
   "source": [
    "#4th question\n",
    "def check_element(t, elem):\n",
    "    return elem in t\n",
    "\n",
    "t = (1, 2, 3, 4, 5)\n",
    "print(check_element(t, 3))  \n"
   ]
  },
  {
   "cell_type": "code",
   "execution_count": 8,
   "metadata": {},
   "outputs": [
    {
     "name": "stdout",
     "output_type": "stream",
     "text": [
      "10\n"
     ]
    }
   ],
   "source": [
    "#5th question\n",
    "def first_element(t):\n",
    "    return t[0] if t else None\n",
    "\n",
    "t = (10, 20, 30)\n",
    "print(first_element(t))  \n"
   ]
  },
  {
   "cell_type": "code",
   "execution_count": null,
   "metadata": {},
   "outputs": [
    {
     "name": "stdout",
     "output_type": "stream",
     "text": [
      "30\n"
     ]
    }
   ],
   "source": [
    "#6th question\n",
    "def last_element(t):\n",
    "    return t[-1] if t else None\n",
    "\n",
    "t = (10, 20, 30)\n",
    "print(last_element(t))  \n"
   ]
  },
  {
   "cell_type": "code",
   "execution_count": 10,
   "metadata": {},
   "outputs": [
    {
     "name": "stdout",
     "output_type": "stream",
     "text": [
      "4\n"
     ]
    }
   ],
   "source": [
    "#7th question\n",
    "def tuple_length(t):\n",
    "    return len(t)\n",
    "\n",
    "t = (1, 2, 3, 4)\n",
    "print(tuple_length(t)) \n"
   ]
  },
  {
   "cell_type": "code",
   "execution_count": null,
   "metadata": {},
   "outputs": [],
   "source": [
    "#8th question\n",
    "def slice_tuple(t):\n",
    "    return t[:3]\n",
    "\n",
    "t = (10, 20, 30, 40, 50)\n",
    "print(slice_tuple(t))  \n"
   ]
  },
  {
   "cell_type": "code",
   "execution_count": null,
   "metadata": {},
   "outputs": [
    {
     "name": "stdout",
     "output_type": "stream",
     "text": [
      "(1, 2, 3, 4, 5, 6)\n"
     ]
    }
   ],
   "source": [
    "#9th question\n",
    "def concatenate_tuples(t1, t2):\n",
    "    return t1 + t2\n",
    "\n",
    "t1 = (1, 2, 3)\n",
    "t2 = (4, 5, 6)\n",
    "print(concatenate_tuples(t1, t2))  \n"
   ]
  },
  {
   "cell_type": "code",
   "execution_count": null,
   "metadata": {},
   "outputs": [
    {
     "name": "stdout",
     "output_type": "stream",
     "text": [
      "True\n"
     ]
    }
   ],
   "source": [
    "#10th question\n",
    "def is_tuple_empty(t):\n",
    "    return len(t) == 0\n",
    "\n",
    "t = ()\n",
    "print(is_tuple_empty(t))  \n"
   ]
  },
  {
   "cell_type": "code",
   "execution_count": 13,
   "metadata": {},
   "outputs": [
    {
     "name": "stdout",
     "output_type": "stream",
     "text": [
      "[1, 3, 5]\n"
     ]
    }
   ],
   "source": [
    "#11th question\n",
    "def get_indices(t, elem):\n",
    "    return [i for i, x in enumerate(t) if x == elem]\n",
    "\n",
    "t = (1, 2, 3, 2, 4, 2)\n",
    "print(get_indices(t, 2))  \n"
   ]
  },
  {
   "cell_type": "code",
   "execution_count": null,
   "metadata": {},
   "outputs": [
    {
     "name": "stdout",
     "output_type": "stream",
     "text": [
      "7\n"
     ]
    }
   ],
   "source": [
    "#12th question\n",
    "def second_largest(t):\n",
    "    return sorted(set(t))[-2] if len(set(t)) > 1 else None\n",
    "\n",
    "t = (1, 5, 2, 9, 7)\n",
    "print(second_largest(t))  \n"
   ]
  },
  {
   "cell_type": "code",
   "execution_count": null,
   "metadata": {},
   "outputs": [],
   "source": [
    "#13th question\n",
    "def second_smallest(t):\n",
    "    return sorted(set(t))[1] if len(set(t)) > 1 else None\n",
    "\n",
    "t = (1, 5, 2, 9, 7)\n",
    "print(second_smallest(t)) "
   ]
  },
  {
   "cell_type": "code",
   "execution_count": null,
   "metadata": {},
   "outputs": [
    {
     "name": "stdout",
     "output_type": "stream",
     "text": [
      "(5,)\n"
     ]
    }
   ],
   "source": [
    "#14th question\n",
    "def single_element_tuple(elem):\n",
    "    return (elem,)\n",
    "\n",
    "print(single_element_tuple(5)) \n"
   ]
  },
  {
   "cell_type": "code",
   "execution_count": null,
   "metadata": {},
   "outputs": [
    {
     "name": "stdout",
     "output_type": "stream",
     "text": [
      "(1, 2, 3)\n"
     ]
    }
   ],
   "source": [
    "#15th question\n",
    "def list_to_tuple(lst):\n",
    "    return tuple(lst)\n",
    "\n",
    "lst = [1, 2, 3]\n",
    "print(list_to_tuple(lst))  \n"
   ]
  },
  {
   "cell_type": "code",
   "execution_count": null,
   "metadata": {},
   "outputs": [
    {
     "name": "stdout",
     "output_type": "stream",
     "text": [
      "True\n"
     ]
    }
   ],
   "source": [
    "#16th question\n",
    "def is_sorted(t):\n",
    "    return t == tuple(sorted(t))\n",
    "\n",
    "t = (1, 2, 3, 4)\n",
    "print(is_sorted(t))  \n"
   ]
  },
  {
   "cell_type": "code",
   "execution_count": null,
   "metadata": {},
   "outputs": [
    {
     "name": "stdout",
     "output_type": "stream",
     "text": [
      "40\n"
     ]
    }
   ],
   "source": [
    "#17th question\n",
    "def max_in_subtuple(t, start, end):\n",
    "    return max(t[start:end])\n",
    "\n",
    "t = (10, 20, 30, 40, 50)\n",
    "print(max_in_subtuple(t, 1, 4))  \n"
   ]
  },
  {
   "cell_type": "code",
   "execution_count": 19,
   "metadata": {},
   "outputs": [
    {
     "name": "stdout",
     "output_type": "stream",
     "text": [
      "20\n"
     ]
    }
   ],
   "source": [
    "#18th question\n",
    "def min_in_subtuple(t, start, end):\n",
    "    return min(t[start:end])\n",
    "\n",
    "t = (10, 20, 30, 40, 50)\n",
    "print(min_in_subtuple(t, 1, 4)) \n"
   ]
  },
  {
   "cell_type": "code",
   "execution_count": 21,
   "metadata": {},
   "outputs": [
    {
     "name": "stdout",
     "output_type": "stream",
     "text": [
      "(1, 3, 4, 2)\n"
     ]
    }
   ],
   "source": [
    "#19th question\n",
    "def remove_element(t, elem):\n",
    "    lst = list(t)\n",
    "    if elem in lst:\n",
    "        lst.remove(elem)\n",
    "    return tuple(lst)\n",
    "\n",
    "t = (1, 2, 3, 4, 2)\n",
    "print(remove_element(t, 2))  \n"
   ]
  },
  {
   "cell_type": "code",
   "execution_count": 20,
   "metadata": {},
   "outputs": [
    {
     "name": "stdout",
     "output_type": "stream",
     "text": [
      "((1, 2), (3, 4), (5, 6))\n"
     ]
    }
   ],
   "source": [
    "#20th question\n",
    "nested_tuple = ((1, 2), (3, 4), (5, 6))\n",
    "print(nested_tuple)  \n"
   ]
  },
  {
   "cell_type": "code",
   "execution_count": null,
   "metadata": {},
   "outputs": [
    {
     "name": "stdout",
     "output_type": "stream",
     "text": [
      "(1, 1, 2, 2, 3, 3)\n"
     ]
    }
   ],
   "source": [
    "#21st question\n",
    "def repeat_elements(t, n):\n",
    "    return tuple(x for x in t for _ in range(n))\n",
    "\n",
    "t = (1, 2, 3)\n",
    "print(repeat_elements(t, 2))  \n"
   ]
  },
  {
   "cell_type": "code",
   "execution_count": 23,
   "metadata": {},
   "outputs": [
    {
     "name": "stdout",
     "output_type": "stream",
     "text": [
      "(1, 2, 3, 4, 5, 6, 7, 8, 9, 10)\n"
     ]
    }
   ],
   "source": [
    "#22nd question\n",
    "def range_tuple(start, end):\n",
    "    return tuple(range(start, end + 1))\n",
    "\n",
    "print(range_tuple(1, 10))  \n"
   ]
  },
  {
   "cell_type": "code",
   "execution_count": null,
   "metadata": {},
   "outputs": [
    {
     "name": "stdout",
     "output_type": "stream",
     "text": [
      "(4, 3, 2, 1)\n"
     ]
    }
   ],
   "source": [
    "#23rd question\n",
    "def reverse_tuple(t):\n",
    "    return t[::-1]\n",
    "\n",
    "t = (1, 2, 3, 4)\n",
    "print(reverse_tuple(t))  \n"
   ]
  },
  {
   "cell_type": "code",
   "execution_count": null,
   "metadata": {},
   "outputs": [
    {
     "name": "stdout",
     "output_type": "stream",
     "text": [
      "True\n"
     ]
    }
   ],
   "source": [
    "#24th question\n",
    "def is_palindrome_tuple(t):\n",
    "    return t == t[::-1]\n",
    "\n",
    "t = (1, 2, 3, 2, 1)\n",
    "print(is_palindrome_tuple(t))  \n"
   ]
  },
  {
   "cell_type": "code",
   "execution_count": null,
   "metadata": {},
   "outputs": [
    {
     "name": "stdout",
     "output_type": "stream",
     "text": [
      "(1, 2, 3, 4, 5)\n"
     ]
    }
   ],
   "source": [
    "#25th question\n",
    "def unique_elements(t):\n",
    "    seen = set()\n",
    "    return tuple(x for x in t if not (x in seen or seen.add(x)))\n",
    "\n",
    "t = (1, 2, 2, 3, 4, 3, 5)\n",
    "print(unique_elements(t))  \n"
   ]
  },
  {
   "cell_type": "code",
   "execution_count": null,
   "metadata": {},
   "outputs": [],
   "source": []
  }
 ],
 "metadata": {
  "kernelspec": {
   "display_name": "Python 3",
   "language": "python",
   "name": "python3"
  },
  "language_info": {
   "codemirror_mode": {
    "name": "ipython",
    "version": 3
   },
   "file_extension": ".py",
   "mimetype": "text/x-python",
   "name": "python",
   "nbconvert_exporter": "python",
   "pygments_lexer": "ipython3",
   "version": "3.10.10"
  }
 },
 "nbformat": 4,
 "nbformat_minor": 2
}
